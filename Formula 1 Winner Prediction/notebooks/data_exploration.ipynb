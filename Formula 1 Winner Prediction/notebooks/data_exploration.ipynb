{
 "cells": [
  {
   "cell_type": "code",
   "execution_count": null,
   "id": "26688cac",
   "metadata": {},
   "outputs": [],
   "source": [
    "# Import Libraries\n",
    "import pandas as pd\n",
    "import seaborn as sns\n",
    "import matplotlib.pyplot as plt\n",
    "\n",
    "# Load Data\n",
    "data = pd.read_csv('../data/processed_data/processed_canadian_gp.csv')\n",
    "\n",
    "# Display Basic Information\n",
    "print(data.info())\n",
    "print(data.describe())\n",
    "\n",
    "# Plot Correlation Matrix\n",
    "plt.figure(figsize=(10, 8))\n",
    "sns.heatmap(data.corr(), annot=True, cmap='coolwarm')\n",
    "plt.title('Feature Correlation Matrix')\n",
    "plt.show()\n",
    "\n",
    "# Plot Win Distribution by Driver\n",
    "plt.figure(figsize=(12, 6))\n",
    "sns.countplot(data=data, x='DriverNumber', hue='Win')\n",
    "plt.xticks(rotation=90)\n",
    "plt.title('Wins by Driver')\n",
    "plt.show()"
   ]
  }
 ],
 "metadata": {
  "language_info": {
   "name": "python"
  }
 },
 "nbformat": 4,
 "nbformat_minor": 5
}
