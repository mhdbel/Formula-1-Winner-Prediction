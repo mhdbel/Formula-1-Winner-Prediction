{
 "cells": [
  {
   "cell_type": "code",
   "execution_count": null,
   "id": "8349c061",
   "metadata": {},
   "outputs": [],
   "source": [
    "# Import Libraries\n",
    "import pandas as pd\n",
    "from src.preprocessing import preprocess_data\n",
    "\n",
    "# Load Raw Data\n",
    "raw_data = pd.read_csv('../data/raw_data/canadian_gp_2023.csv')\n",
    "\n",
    "# Preprocess Data\n",
    "processed_data = preprocess_data(raw_data)\n",
    "\n",
    "# Save Processed Data\n",
    "processed_data.to_csv('../data/processed_data/processed_canadian_gp.csv', index=False)\n",
    "\n",
    "# Display Processed Data\n",
    "print(processed_data.head())\n",
    "\n",
    "# Feature Engineering Example\n",
    "processed_data['SectorRatio'] = processed_data['Sector1Time'] / processed_data['Sector2Time']\n",
    "print(processed_data[['Sector1Time', 'Sector2Time', 'SectorRatio']].head())"
   ]
  }
 ],
 "metadata": {
  "language_info": {
   "name": "python"
  }
 },
 "nbformat": 4,
 "nbformat_minor": 5
}
